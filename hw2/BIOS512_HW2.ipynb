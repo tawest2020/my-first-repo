{
 "cells": [
  {
   "cell_type": "markdown",
   "id": "2a745634",
   "metadata": {},
   "source": [
    "---\n",
    "title: \"BIOS 512 Homework 2\"\n",
    "output: pdf_document\n",
    "---\n",
    "\n",
    "## Load Necessary Packages...\n",
    "\n",
    "If you need to install tidyverse, you can use install.packages(\"tidyverse\"). If you already have tidyverse installed, you can just load the package:"
   ]
  },
  {
   "cell_type": "code",
   "execution_count": null,
   "id": "ea95b273",
   "metadata": {},
   "outputs": [],
   "source": [
    "%%R\n",
    "library(tidyverse);"
   ]
  },
  {
   "cell_type": "markdown",
   "id": "cf12afa0",
   "metadata": {},
   "source": [
    "## Question 1\n",
    "\n",
    "What are three ways that we can assign the value of 25 to y?\n",
    "\n",
    "## Question 2\n",
    "\n",
    "How would I print the following line, including the quotes, in R?\\\n",
    "**He said, \"I'm Garth Marenghi. Author. Dreamweaver. Visionary. Plus actor.\"**\n",
    "\n",
    "## Question 3\n",
    "\n",
    "What if I wanted to add backslashes into the statement from Question 1 to make the statement below?\\\n",
    "**He said, \"I'm Garth Marenghi. Author\\\\Dreamweaver\\\\Visionary. Plus actor.\"**\n",
    "\n",
    "## Question 4\n",
    "\n",
    "Show two ways to get the following array: 1 2 3\n",
    "\n",
    "## Question 5\n",
    "\n",
    "What does R call things like +, -, sin(), c(), etc? What about \\<-?\n",
    "\n",
    "## Question 6\n",
    "\n",
    "What's the difference in the way R processes the while() and the for() below?"
   ]
  },
  {
   "cell_type": "code",
   "execution_count": null,
   "id": "feb2583d",
   "metadata": {},
   "outputs": [],
   "source": [
    "%%R\n",
    "x <- 0;\n",
    "while (x <= 3) {\n",
    "    x <- x + 1;\n",
    "}\n",
    "x\n",
    "\n",
    "for(y in c(1,2,3)) {\n",
    "     y <- y + 1;\n",
    "}\n",
    "y"
   ]
  },
  {
   "cell_type": "markdown",
   "id": "e87f5d74",
   "metadata": {},
   "source": [
    "## Question 7\n",
    "\n",
    "Create the Pythagorean formula and evaluate it with a=3 and b=4. Print the output.\n",
    "\n",
    "## Question 8\n",
    "\n",
    "Load the help for the built in sin() function.\n",
    "\n",
    "## Question 9\n",
    "\n",
    "Which version of the counter function works? What is the difference in the way R processes the two functions?"
   ]
  },
  {
   "cell_type": "code",
   "execution_count": null,
   "id": "81bccea2",
   "metadata": {},
   "outputs": [],
   "source": [
    "%%R\n",
    "counter1 <- function(start, step){\n",
    "    val <- start;\n",
    "    function(){\n",
    "        old_val <- val;\n",
    "        val <- val + step;\n",
    "        old_val;\n",
    "    }\n",
    "}\n",
    "counter_from_1 <- counter1(1,1);\n",
    "counter_from_1()\n",
    "counter_from_1()\n",
    "\n",
    "counter2 <- function(start, step){\n",
    "    val <- start;\n",
    "    function(){\n",
    "        old_val <- val;\n",
    "        val <<- val + step;\n",
    "        old_val;\n",
    "    }\n",
    "}\n",
    "counter_from_1 <- counter2(1,1);\n",
    "counter_from_1()\n",
    "counter_from_1()"
   ]
  },
  {
   "cell_type": "markdown",
   "id": "8440f130",
   "metadata": {},
   "source": [
    "## Question 10\n",
    "\n",
    "a)  Use read_csv the cars.csv and store it in a data frame.\n",
    "b)  Then, group the data frame by Make, get averages across the numeric variables, and then sort by Volume in descending order. Hint: Use summarise(across(c(<variable list>), mean)) to get the averages.\n",
    "\n",
    "## Question 11\n",
    "\n",
    "Make a function that returns the Fibonacci sequence, then call it 7 times to return the first 7 values of the sequence. Use the correct counter function from question 9 for inspiration."
   ]
  }
 ],
 "metadata": {},
 "nbformat": 4,
 "nbformat_minor": 5
}
